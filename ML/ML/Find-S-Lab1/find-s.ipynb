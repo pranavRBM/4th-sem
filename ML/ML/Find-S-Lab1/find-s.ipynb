{
 "cells": [
  {
   "cell_type": "markdown",
   "metadata": {},
   "source": [
    "\n",
    "# without redused code\n"
   ]
  },
  {
   "cell_type": "code",
   "execution_count": null,
   "metadata": {},
   "outputs": [],
   "source": [
    "import pandas as pd\n",
    "\n",
    "data = pd.read_csv('enjoysport.csv')\n",
    "\n",
    "hypothesis = ['%' for _ in range(len(data.columns) - 1)]\n",
    "\n",
    "positive_examples = data[data['EnjoySport'] == 'Yes'].iloc[:, :-1].values.tolist()\n",
    "\n",
    "for example in positive_examples:\n",
    "    for i in range(len(example)):\n",
    "        if hypothesis[i] != '%' and hypothesis[i] != example[i]:\n",
    "            hypothesis[i] = '?'\n",
    "        else:\n",
    "            hypothesis[i] = example[i]\n",
    "\n",
    "print(\"The maximally specific Find-S hypothesis for the given training examples is:\")\n",
    "print(hypothesis)\n"
   ]
  },
  {
   "cell_type": "markdown",
   "metadata": {},
   "source": [
    "\n",
    "# reduced code---------------------------------"
   ]
  },
  {
   "cell_type": "code",
   "execution_count": null,
   "metadata": {},
   "outputs": [],
   "source": [
    "\n",
    "import pandas as pd\n",
    "\n",
    "data = pd.read_csv('enjoysport.csv')\n",
    "\n",
    "hypothesis = ['%' for _ in range(len(data.columns) - 1)]\n",
    "\n",
    "positive_examples = data[data['EnjoySport'] == 'Yes'].iloc[:, :-1].values.tolist()\n",
    "\n",
    "for example in positive_examples:\n",
    "    hypothesis = [example[i] if hypothesis[i] == '%' or hypothesis[i] == example[i] else '?' for i in range(len(example))]\n",
    "\n",
    "print(\"The maximally specific Find-S hypothesis for the given training examples is:\")\n",
    "print(hypothesis)\n"
   ]
  }
 ],
 "metadata": {
  "language_info": {
   "name": "python"
  }
 },
 "nbformat": 4,
 "nbformat_minor": 2
}
