{
 "cells": [
  {
   "cell_type": "markdown",
   "metadata": {},
   "source": [
    "\n",
    "# without redused code\n"
   ]
  },
  {
   "cell_type": "code",
   "execution_count": 1,
   "metadata": {},
   "outputs": [
    {
     "name": "stdout",
     "output_type": "stream",
     "text": [
      "The maximally specific Find-S hypothesis for the given training examples is:\n",
      "['Sunny', 'Warm', '?', 'Strong', '?', '?']\n"
     ]
    }
   ],
   "source": [
    "import pandas as pd\n",
    "\n",
    "data = pd.read_csv('enjoysport.csv')\n",
    "\n",
    "hypothesis = ['%' for _ in range(len(data.columns) - 1)]\n",
    "\n",
    "positive_examples = data[data['EnjoySport'] == 'Yes'].iloc[:, :-1].values.tolist()\n",
    "\n",
    "for example in positive_examples:\n",
    "    for i in range(len(example)):\n",
    "        if hypothesis[i] != '%' and hypothesis[i] != example[i]:\n",
    "            hypothesis[i] = '?'\n",
    "        else:\n",
    "            hypothesis[i] = example[i]\n",
    "\n",
    "print(\"The maximally specific Find-S hypothesis for the given training examples is:\")\n",
    "print(hypothesis)\n"
   ]
  },
  {
   "cell_type": "markdown",
   "metadata": {},
   "source": [
    "\n",
    "# reduced code---------------------------------"
   ]
  },
  {
   "cell_type": "code",
   "execution_count": 2,
   "metadata": {},
   "outputs": [
    {
     "name": "stdout",
     "output_type": "stream",
     "text": [
      "The maximally specific Find-S hypothesis for the given training examples is:\n",
      "['Sunny', 'Warm', '?', 'Strong', '?', '?']\n"
     ]
    }
   ],
   "source": [
    "\n",
    "import pandas as pd\n",
    "\n",
    "data = pd.read_csv('enjoysport.csv')\n",
    "\n",
    "hypothesis = ['%' for _ in range(len(data.columns) - 1)]\n",
    "\n",
    "positive_examples = data[data['EnjoySport'] == 'Yes'].iloc[:, :-1].values.tolist()\n",
    "\n",
    "for example in positive_examples:\n",
    "    hypothesis = [example[i] if hypothesis[i] == '%' or hypothesis[i] == example[i] else '?' for i in range(len(example))]\n",
    "\n",
    "print(\"The maximally specific Find-S hypothesis for the given training examples is:\")\n",
    "print(hypothesis)\n"
   ]
  }
 ],
 "metadata": {
  "kernelspec": {
   "display_name": "Python 3",
   "language": "python",
   "name": "python3"
  },
  "language_info": {
   "codemirror_mode": {
    "name": "ipython",
    "version": 3
   },
   "file_extension": ".py",
   "mimetype": "text/x-python",
   "name": "python",
   "nbconvert_exporter": "python",
   "pygments_lexer": "ipython3",
   "version": "3.12.2"
  }
 },
 "nbformat": 4,
 "nbformat_minor": 2
}
