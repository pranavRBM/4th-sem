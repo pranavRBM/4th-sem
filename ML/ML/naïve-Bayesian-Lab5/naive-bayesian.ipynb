{
 "cells": [
  {
   "cell_type": "code",
   "execution_count": 1,
   "metadata": {},
   "outputs": [],
   "source": [
    "import pandas as pd\n",
    "from sklearn.naive_bayes import GaussianNB\n",
    "from sklearn import metrics\n"
   ]
  },
  {
   "cell_type": "code",
   "execution_count": 2,
   "metadata": {},
   "outputs": [],
   "source": [
    "\n",
    "train_data, test_data = pd.read_csv('PlayTennis.csv'), pd.read_csv('test.csv')\n"
   ]
  },
  {
   "cell_type": "code",
   "execution_count": 3,
   "metadata": {},
   "outputs": [],
   "source": [
    "\n",
    "for data in [train_data, test_data]:\n",
    "    data['Outlook'] = data['Outlook'].map({'Sunny': 0, 'Overcast':1, 'Rain': 2})\n",
    "    data['Temperature'] = data['Temperature'].map({'Hot': 0,'Mild': 1, 'Cool': 2})\n",
    "    data['Humidity'] = data['Humidity'].map({'High': 0, 'Normal':1})\n",
    "    data['Wind'] = data['Wind'].map({'Weak': 0, 'Strong': 1})\n",
    "    data['PlayTennis'] = data['PlayTennis'].map({'No': 0, 'Yes':1})\n"
   ]
  },
  {
   "cell_type": "code",
   "execution_count": 4,
   "metadata": {},
   "outputs": [],
   "source": [
    "\n",
    "X_train, y_train = train_data.drop('PlayTennis', axis=1), train_data['PlayTennis']\n",
    "X_test, y_test = test_data.drop('PlayTennis', axis=1), test_data['PlayTennis']\n"
   ]
  },
  {
   "cell_type": "code",
   "execution_count": 5,
   "metadata": {},
   "outputs": [],
   "source": [
    "\n",
    "nb_classifier = GaussianNB().fit(X_train, y_train)\n",
    "y_pred = nb_classifier.predict(X_test)\n"
   ]
  },
  {
   "cell_type": "code",
   "execution_count": 6,
   "metadata": {},
   "outputs": [
    {
     "name": "stdout",
     "output_type": "stream",
     "text": [
      "Predicted Output:\n",
      "Sample 1: No\n",
      "Sample 2: No\n",
      "Sample 3: No\n",
      "Sample 4: Yes\n",
      "Sample 5: Yes\n"
     ]
    }
   ],
   "source": [
    "\n",
    "print(\"Predicted Output:\")\n",
    "for i, prediction in enumerate(y_pred):\n",
    "    print(f\"Sample {i + 1}: {'Yes' if prediction == 1 else 'No'}\")\n"
   ]
  },
  {
   "cell_type": "code",
   "execution_count": 7,
   "metadata": {},
   "outputs": [
    {
     "name": "stdout",
     "output_type": "stream",
     "text": [
      "Accuracy: 0.8\n"
     ]
    }
   ],
   "source": [
    "\n",
    "accuracy = metrics.accuracy_score(y_test, y_pred)\n",
    "print(\"Accuracy:\", accuracy)\n"
   ]
  }
 ],
 "metadata": {
  "kernelspec": {
   "display_name": "Python 3",
   "language": "python",
   "name": "python3"
  },
  "language_info": {
   "codemirror_mode": {
    "name": "ipython",
    "version": 3
   },
   "file_extension": ".py",
   "mimetype": "text/x-python",
   "name": "python",
   "nbconvert_exporter": "python",
   "pygments_lexer": "ipython3",
   "version": "3.12.2"
  }
 },
 "nbformat": 4,
 "nbformat_minor": 2
}
