{
 "cells": [
  {
   "cell_type": "code",
   "execution_count": null,
   "metadata": {},
   "outputs": [],
   "source": [
    "import pandas as pd\n",
    "from sklearn.naive_bayes import GaussianNB\n",
    "from sklearn import metrics\n"
   ]
  },
  {
   "cell_type": "code",
   "execution_count": null,
   "metadata": {},
   "outputs": [],
   "source": [
    "\n",
    "train_data, test_data = pd.read_csv('PlayTennis.csv'), pd.read_csv('test.csv')\n"
   ]
  },
  {
   "cell_type": "code",
   "execution_count": null,
   "metadata": {},
   "outputs": [],
   "source": [
    "\n",
    "for data in [train_data, test_data]:\n",
    "    data['Outlook'] = data['Outlook'].map({'Sunny': 0, 'Overcast':1, 'Rain': 2})\n",
    "    data['Temperature'] = data['Temperature'].map({'Hot': 0,'Mild': 1, 'Cool': 2})\n",
    "    data['Humidity'] = data['Humidity'].map({'High': 0, 'Normal':1})\n",
    "    data['Wind'] = data['Wind'].map({'Weak': 0, 'Strong': 1})\n",
    "    data['PlayTennis'] = data['PlayTennis'].map({'No': 0, 'Yes':1})\n"
   ]
  },
  {
   "cell_type": "code",
   "execution_count": null,
   "metadata": {},
   "outputs": [],
   "source": [
    "\n",
    "X_train, y_train = train_data.drop('PlayTennis', axis=1), train_data['PlayTennis']\n",
    "X_test, y_test = test_data.drop('PlayTennis', axis=1), test_data['PlayTennis']\n"
   ]
  },
  {
   "cell_type": "code",
   "execution_count": null,
   "metadata": {},
   "outputs": [],
   "source": [
    "\n",
    "nb_classifier = GaussianNB().fit(X_train, y_train)\n",
    "y_pred = nb_classifier.predict(X_test)\n"
   ]
  },
  {
   "cell_type": "code",
   "execution_count": null,
   "metadata": {},
   "outputs": [],
   "source": [
    "\n",
    "print(\"Predicted Output:\")\n",
    "for i, prediction in enumerate(y_pred):\n",
    "    print(f\"Sample {i + 1}: {'Yes' if prediction == 1 else 'No'}\")\n"
   ]
  },
  {
   "cell_type": "code",
   "execution_count": null,
   "metadata": {},
   "outputs": [],
   "source": [
    "\n",
    "accuracy = metrics.accuracy_score(y_test, y_pred)\n",
    "print(\"Accuracy:\", accuracy)\n"
   ]
  }
 ],
 "metadata": {
  "language_info": {
   "name": "python"
  }
 },
 "nbformat": 4,
 "nbformat_minor": 2
}
