{
 "cells": [
  {
   "cell_type": "code",
   "execution_count": 1,
   "metadata": {},
   "outputs": [],
   "source": [
    "import numpy as np\n",
    "import pandas as pd\n",
    "from sklearn.datasets import load_iris\n",
    "from sklearn.model_selection import train_test_split\n",
    "from sklearn.neighbors import KNeighborsClassifier\n",
    "from sklearn.metrics import accuracy_score\n",
    "import warnings\n"
   ]
  },
  {
   "cell_type": "code",
   "execution_count": 2,
   "metadata": {},
   "outputs": [],
   "source": [
    "warnings.filterwarnings('ignore')"
   ]
  },
  {
   "cell_type": "code",
   "execution_count": 3,
   "metadata": {},
   "outputs": [],
   "source": [
    "iris = load_iris()"
   ]
  },
  {
   "cell_type": "code",
   "execution_count": 4,
   "metadata": {},
   "outputs": [
    {
     "name": "stdout",
     "output_type": "stream",
     "text": [
      "Column names in the Iris dataset: ['sepal length (cm)', 'sepal width (cm)', 'petal length (cm)', 'petal width (cm)']\n",
      "Target names in the Iris dataset: ['setosa' 'versicolor' 'virginica']\n"
     ]
    }
   ],
   "source": [
    "print(\"Column names in the Iris dataset:\", iris.feature_names)\n",
    "print(\"Target names in the Iris dataset:\", iris.target_names)"
   ]
  },
  {
   "cell_type": "code",
   "execution_count": 5,
   "metadata": {},
   "outputs": [],
   "source": [
    "\n",
    "iris_df = pd.DataFrame(data=iris.data, columns=iris.feature_names)\n",
    "iris_df['target'] = iris.target"
   ]
  },
  {
   "cell_type": "code",
   "execution_count": 6,
   "metadata": {},
   "outputs": [],
   "source": [
    "X_train, X_test, y_train, y_test = train_test_split(iris_df.drop('target', axis=1), iris_df['target'], test_size=0.2, random_state=42)"
   ]
  },
  {
   "cell_type": "code",
   "execution_count": 7,
   "metadata": {},
   "outputs": [],
   "source": [
    "k = 4\n",
    "knn = KNeighborsClassifier(n_neighbors=k).fit(X_train, y_train)"
   ]
  },
  {
   "cell_type": "code",
   "execution_count": 8,
   "metadata": {},
   "outputs": [
    {
     "name": "stdout",
     "output_type": "stream",
     "text": [
      "Accuracy of k-Nearest Neighbor (k=4): 1.0\n"
     ]
    }
   ],
   "source": [
    "accuracy = accuracy_score(y_test, knn.predict(X_test))\n",
    "print(f\"Accuracy of k-Nearest Neighbor (k={k}): {accuracy}\")"
   ]
  },
  {
   "cell_type": "code",
   "execution_count": 9,
   "metadata": {},
   "outputs": [
    {
     "name": "stdout",
     "output_type": "stream",
     "text": [
      "     Actual  Predicted\n",
      "73        1          1\n",
      "18        0          0\n",
      "118       2          2\n",
      "78        1          1\n",
      "76        1          1\n",
      "31        0          0\n",
      "64        1          1\n",
      "141       2          2\n",
      "68        1          1\n",
      "82        1          1\n",
      "110       2          2\n",
      "12        0          0\n",
      "36        0          0\n",
      "9         0          0\n",
      "19        0          0\n",
      "56        1          1\n",
      "104       2          2\n",
      "69        1          1\n",
      "55        1          1\n",
      "132       2          2\n",
      "29        0          0\n",
      "127       2          2\n",
      "26        0          0\n",
      "128       2          2\n",
      "131       2          2\n",
      "145       2          2\n",
      "108       2          2\n",
      "143       2          2\n",
      "45        0          0\n",
      "30        0          0\n"
     ]
    }
   ],
   "source": [
    "print(pd.DataFrame({'Actual': y_test, 'Predicted': knn.predict(X_test)}))"
   ]
  },
  {
   "cell_type": "code",
   "execution_count": 10,
   "metadata": {},
   "outputs": [
    {
     "name": "stdout",
     "output_type": "stream",
     "text": [
      "Predicted class for the sample: setosa\n"
     ]
    }
   ],
   "source": [
    "sample = np.array([[5.1, 3.5, 1.4, 0.2]]) # Example sample\n",
    "predicted_species = iris.target_names[knn.predict(sample)[0]]\n",
    "print(f\"Predicted class for the sample: {predicted_species}\")"
   ]
  }
 ],
 "metadata": {
  "kernelspec": {
   "display_name": "Python 3",
   "language": "python",
   "name": "python3"
  },
  "language_info": {
   "codemirror_mode": {
    "name": "ipython",
    "version": 3
   },
   "file_extension": ".py",
   "mimetype": "text/x-python",
   "name": "python",
   "nbconvert_exporter": "python",
   "pygments_lexer": "ipython3",
   "version": "3.12.2"
  }
 },
 "nbformat": 4,
 "nbformat_minor": 2
}
