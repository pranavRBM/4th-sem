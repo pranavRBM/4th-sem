{
 "cells": [
  {
   "cell_type": "code",
   "execution_count": null,
   "metadata": {},
   "outputs": [],
   "source": [
    "import numpy as np\n"
   ]
  },
  {
   "cell_type": "code",
   "execution_count": null,
   "metadata": {},
   "outputs": [],
   "source": [
    "\n",
    "X = np.array(([2, 9], [1, 5], [3, 6]), dtype=float) / 9 # slept, study\n",
    "y = np.array(([92], [86], [89]), dtype=float) / 100 # marks\n"
   ]
  },
  {
   "cell_type": "code",
   "execution_count": null,
   "metadata": {},
   "outputs": [],
   "source": [
    "\n",
    "class NN:\n",
    "    def __init__(self):\n",
    "        self.W1 = np.random.randn(2, 3)\n",
    "        self.W2 = np.random.randn(3, 1)\n",
    "    def forward(self, X):\n",
    "        self.z2 = 1 / (1 + np.exp(-np.dot(X, self.W1)))\n",
    "        return 1 / (1 + np.exp(-np.dot(self.z2, self.W2)))\n",
    "    def backward(self, X, y, o):\n",
    "        o_delta = (y - o) * o * (1 - o)\n",
    "        self.W2 += np.dot(self.z2.T, o_delta)\n",
    "        self.W1 += np.dot(X.T, np.dot(o_delta, self.W2.T) * self.z2 * (1 - self.z2))\n"
   ]
  },
  {
   "cell_type": "code",
   "execution_count": null,
   "metadata": {},
   "outputs": [],
   "source": [
    "\n",
    "NN = NN()\n",
    "for _ in range(1000):\n",
    "    o = NN.forward(X)\n",
    "    NN.backward(X, y, o)\n",
    "    print(\"\\nInput:\\n\", X, \"\\nActual Output:\\n\", y, \"\\nPredicted Output:\\n\", o, \"\\nLoss:\", np.mean(np.square(y - o)))\n"
   ]
  }
 ],
 "metadata": {
  "language_info": {
   "name": "python"
  }
 },
 "nbformat": 4,
 "nbformat_minor": 2
}
